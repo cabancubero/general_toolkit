{
 "cells": [
  {
   "cell_type": "code",
   "execution_count": null,
   "metadata": {},
   "outputs": [],
   "source": [
    "#import the pandas library. I like to use the full names of my libraries in my code so it is easier to read\n",
    "\n",
    "import pandas as pandas\n",
    "from pandas.api import types as pdtypes\n",
    "\n",
    "openfield_file = pandas.read_csv('file_path')\n",
    "\n",
    "## This command allows me to see all of the columns in the dataframe when I call the .head() method\n",
    "\n",
    "pandas.set_option('display.max_columns', None)\n",
    "\n",
    "openfield_file.head()"
   ]
  },
  {
   "cell_type": "code",
   "execution_count": null,
   "metadata": {},
   "outputs": [],
   "source": [
    "#Let's drop any rows that do not have the value 'Contact' in the column 'conversation_type'\n",
    "\n",
    "openfield_file = openfield_file.drop((openfield_file[openfield_file['conversation_type'] != 'Contact'].index))\n",
    "\n",
    "#Let's see if it worked\n",
    "openfield_file.head()"
   ]
  },
  {
   "cell_type": "markdown",
   "metadata": {},
   "source": [
    "\n",
    "Let's break down how this worked! .drop() method in pandas expects row labels (index values) or column names as its argument, not a boolean mask.\n",
    "\n",
    "--> *df['column_name'] == 'specific_value'* creates a boolean mask where True indicates rows that meet the condition.\n",
    "--> *df[df['column_name'] == 'specific_value']* selects these rows from the DataFrame.\n",
    "--> *.index* retrieves the index labels of these selected rows.\n",
    "--> *.drop()* drops the rows whose index shows up after the boolean mask"
   ]
  },
  {
   "cell_type": "code",
   "execution_count": null,
   "metadata": {},
   "outputs": [],
   "source": [
    "#Drop the columns you need to drop\n",
    "\n",
    "openfield_file = openfield_file.drop(columns=['column1',\n",
    "        'column2',\n",
    "        'column2'])\n",
    "\n",
    "#Let's see if it worked\n",
    "openfield_file.head()"
   ]
  },
  {
   "cell_type": "code",
   "execution_count": null,
   "metadata": {},
   "outputs": [],
   "source": [
    "# Let's rename the columns to make our dataframe easier to read. We will use the .rename() method\n",
    "# df = df.rename(columns={'old_name1': 'new_name1', 'old_name2': 'new_name2'})\n",
    "\n",
    "openfield_file = openfield_file.rename(columns={\n",
    "    'old_column_name1':'new_column_name1',\n",
    "    'old_column_name2':'new_column_name2',}\n",
    "    )\n",
    "\n",
    "#Let's see if it worked\n",
    "openfield_file.head()"
   ]
  },
  {
   "cell_type": "markdown",
   "metadata": {},
   "source": [
    "The .rename() method works as follows\n",
    "\n",
    "--> It takes a columns parameter, which is a dictionary {key:value}.\n",
    "--> In this dictionary, the keys are the current column names you want to change, and the values are the new names you want to assign.\n",
    "--> The method returns a new DataFrame with the updated column names, which we reassign to the dataframe.\n",
    "--> Any column names not specified in the dictionary remain unchanged.\n",
    "\n",
    "*You can do this a different way*\n",
    "\n",
    "Directly assigning new names to the columns attribute:\n",
    "df.columns = ['new_name1', 'new_name2', 'new_name3']\n",
    "\n",
    "This approach works as follows:\n",
    "\n",
    "--> df.columns is an attribute of the DataFrame that holds the column labels.\n",
    "--> By assigning a new list to df.columns, you're directly replacing all the column names.\n",
    "--> The new list must have the same length as the number of columns in your DataFrame.\n",
    "--> This method changes all column names at once, in the order they appear in the DataFrame.\n",
    "\n",
    "Key differences:\n",
    "\n",
    "**The rename() method is more flexible as it allows you to change specific columns without affecting others.**\n",
    "Direct assignment to df.columns is simpler but requires you to specify new names for all columns.\n",
    "rename() creates a new DataFrame (though the assignment df = df.rename(...) makes it seem like it's changing in place), while df.columns = ... modifies the existing DataFrame.\n"
   ]
  },
  {
   "cell_type": "code",
   "execution_count": null,
   "metadata": {},
   "outputs": [],
   "source": [
    "# While we aren't going to use this dictionary for the code, \n",
    "# We want to create this dictionary so we can export the dictionary as a dataframe\n",
    "# So people who use our data know what each column and question correspond to\n",
    "\n",
    "# Let's use the dictionary from the .rename() method above and save it as a new variable\n",
    "\n",
    "openfield_question_column_dictionary = {\n",
    "    'question1':'shortened_column_name1',\n",
    "    'question2':'shortened_column_name2',\n",
    "}\n",
    "# Let's see if the dictionary saved properly\n",
    "print(openfield_question_column_dictionary)\n"
   ]
  },
  {
   "cell_type": "code",
   "execution_count": null,
   "metadata": {},
   "outputs": [],
   "source": [
    "# Now turn the dictionary from before into a dataframe we can save to csv.\n",
    "\n",
    "openfield_question_column_file = pandas.DataFrame.from_dict(\n",
    "    openfield_question_column_dictionary,\n",
    "    orient='index')\n",
    "\n",
    "openfield_question_column_file.head()\n"
   ]
  },
  {
   "cell_type": "code",
   "execution_count": null,
   "metadata": {},
   "outputs": [],
   "source": [
    "#Create a file with the column names that you can use later as a reference if needed\n",
    "\n",
    "openfield_question_column_file.to_csv('new_file_path')"
   ]
  },
  {
   "cell_type": "code",
   "execution_count": null,
   "metadata": {},
   "outputs": [],
   "source": [
    "## Assign the variable \"column_list\" a list of the column names you want to work on. \n",
    "## This variable will be used later!\n",
    "\n",
    "column_list = list(openfield_file.columns)\n",
    "\n",
    "#Make sure the columns are listed by printing the list\n",
    "\n",
    "print(column_list)\n"
   ]
  },
  {
   "cell_type": "code",
   "execution_count": null,
   "metadata": {},
   "outputs": [],
   "source": [
    "#Make sure that each of the columns in the list are an object/string type.\n",
    "\n",
    "for column in column_list:\n",
    "    if column in openfield_file.columns:\n",
    "        openfield_file[column] = openfield_file[column].astype(str)\n",
    "\n",
    "#Use the .info() method to make sure it worked!\n",
    "openfield_file.info()"
   ]
  },
  {
   "cell_type": "code",
   "execution_count": null,
   "metadata": {},
   "outputs": [],
   "source": [
    "# Create a function called \"clean_column\" that takes one argument \"column\" and\n",
    "    # first tests if the datatype is string\n",
    "        # and processes a str.replace() method on the argument \"column\"\n",
    "    # then returns the output as \"column\"\n",
    "    ## It will only do this on columns whose data type is \"string\" a.k.a. \"object\" in pandas\n",
    "\n",
    "def clean_column(column):\n",
    "    if pandas.api.types.is_string_dtype(column):\n",
    "        return column.str.replace(r\"[\\[\\]'\\\"]\", \"\", regex=True)\n",
    "    else:\n",
    "        print(\"Column {column} is not string type, skipping\")\n",
    "    return column"
   ]
  },
  {
   "cell_type": "markdown",
   "metadata": {},
   "source": [
    "*pandas.api.types* is a submodule of pandas that provides a collection of data type-related functions and utilities. Here's a breakdown:\n",
    "\n",
    "**Namespace:** It's a way to organize related functionality within the pandas library.\n",
    "\n",
    "**Purpose:** This submodule contains functions for working with, checking, and manipulating data types in pandas.\n",
    "\n",
    "**Common uses**:\n",
    "-->Checking data types of Series or DataFrame columns\n",
    "-->Determining if a data type belongs to a certain category (e.g., numeric, string, etc.)\n",
    "-->Converting between different data types\n",
    "\n",
    "**Some common functions in this module:**\n",
    "\n",
    "-->*is_numeric_dtype()*: Checks if a dtype is numeric\n",
    "-->*is_datetime64_any_dtype()*: Checks if a dtype is any kind of datetime64 dtype\n",
    "-->*is_categorical_dtype()*: Checks if a dtype is of the Categorical type\n",
    "-->*is_string_dtype()*: Checks if a dtype is a string type"
   ]
  },
  {
   "cell_type": "code",
   "execution_count": null,
   "metadata": {},
   "outputs": [],
   "source": [
    "# Use an if statement that applies the \"clean_column()\"\" function to iterate over each column in \"columns_to_clean\"\n",
    "    #The first line tests If column is in the dataframe\n",
    "        #The second line runs the \"clean_column\" function on the dataframe using the label in the \"columns_to_clean\" list\n",
    "    #If it doesnt work, it prints a statement that says it didn't work \n",
    "\n",
    "for column in column_list:\n",
    "    if column in openfield_file.columns:\n",
    "        openfield_file[column] = clean_column(openfield_file[column])\n",
    "    else:\n",
    "        print(f\"Warning: Column '{column}' not found in the DataFrame\")\n",
    "\n",
    "#Let's see if it worked\n",
    "openfield_file.head()"
   ]
  },
  {
   "cell_type": "code",
   "execution_count": null,
   "metadata": {},
   "outputs": [],
   "source": [
    "#Lets reassign any columns with data that is numeric back to integer type since we are not working with floats.\n",
    "\n",
    "\n",
    "columns_to_convert_to_int = ['column1',\n",
    "    'column2',\n",
    "    'column3'\n",
    "    ]\n",
    "\n",
    "#Iterate over the items in the list\n",
    "for column in columns_to_convert_to_int:\n",
    "    openfield_file[column] = pandas.to_numeric(openfield_file[column], errors='coerce').astype('Int64')\n",
    "    \n",
    "#Let's make sure it worked\n",
    "openfield_file.info()"
   ]
  },
  {
   "cell_type": "code",
   "execution_count": null,
   "metadata": {},
   "outputs": [],
   "source": [
    "\n",
    "#Let's make sure the previous code worked\n",
    "openfield_file.head()"
   ]
  },
  {
   "cell_type": "code",
   "execution_count": null,
   "metadata": {},
   "outputs": [],
   "source": [
    "\n",
    "#Now save your new file to a new path\n",
    "openfield_file.to_csv('new_file_path')"
   ]
  }
 ],
 "metadata": {
  "kernelspec": {
   "display_name": "Python 3",
   "language": "python",
   "name": "python3"
  },
  "language_info": {
   "codemirror_mode": {
    "name": "ipython",
    "version": 3
   },
   "file_extension": ".py",
   "mimetype": "text/x-python",
   "name": "python",
   "nbconvert_exporter": "python",
   "pygments_lexer": "ipython3",
   "version": "3.9.6"
  }
 },
 "nbformat": 4,
 "nbformat_minor": 2
}
