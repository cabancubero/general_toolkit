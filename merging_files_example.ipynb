{
 "cells": [
  {
   "cell_type": "code",
   "execution_count": null,
   "metadata": {},
   "outputs": [],
   "source": [
    "#Import pandas library for this merge\n",
    "\n",
    "import pandas as pandas\n",
    "\n",
    "#Import the files you want to merge\n",
    "file_1 = pandas.read_csv('file_1_path')\n",
    "file_2 = pandas.read_csv('file_2_path')\n",
    "\n",
    "#Let's see if the file we imported was saved\n",
    "file_1.head()"
   ]
  },
  {
   "cell_type": "code",
   "execution_count": null,
   "metadata": {},
   "outputs": [],
   "source": [
    "# Now let's use the .merge() method in pandas to merge the files\n",
    "\n",
    "merged_file = pandas.merge(\n",
    "    file_1, \n",
    "    file_2,\n",
    "    #Match on all columns that are identical to each other\n",
    "    # Any columns that don't match will be added to the merged file\n",
    "    on=['column1',\n",
    "        'column2',\n",
    "        'column3'],\n",
    "    how='outer')\n",
    "\n",
    "# This code might combine across column names that are named differently and/or named the same\n",
    "# result = df1.merge(df2, \n",
    "    # left_on=['shared_column', 'col1_df1'], \n",
    "    # right_on=['shared_column', 'col1_df2'], \n",
    "    # how='left')\n",
    "\n",
    "# This code might combine across column names that are named differently\n",
    "# result = pd.merge(df1, df2, \n",
    "    # left_on=['col1_df1', 'col2_df1', 'col3_df1'],\n",
    "    # right_on=['col1_df2', 'col2_df2', 'col3_df2'],\n",
    "    # how='left')\n",
    "\n",
    "#Let's see if our code worked\n",
    "merged_file.head()"
   ]
  },
  {
   "cell_type": "code",
   "execution_count": null,
   "metadata": {},
   "outputs": [],
   "source": [
    "#Create a list of the column names you want to convert to integer\n",
    "merged_file_int_convert = ['column1',\n",
    "    'column2',\n",
    "    'column3'\n",
    "    ]\n",
    "\n",
    "for column in merged_file_int_convert:\n",
    "    merged_file[column] = pandas.to_numeric(merged_file[column], errors='coerce').astype('Int64')\n",
    "\n",
    "#Let's see if it worked\n",
    "merged_file.head(100)"
   ]
  },
  {
   "cell_type": "code",
   "execution_count": null,
   "metadata": {},
   "outputs": [],
   "source": [
    "#Save the merged file to a new path!\n",
    "merged_file.to_csv('new_file_path')"
   ]
  }
 ],
 "metadata": {
  "kernelspec": {
   "display_name": "Python 3",
   "language": "python",
   "name": "python3"
  },
  "language_info": {
   "codemirror_mode": {
    "name": "ipython",
    "version": 3
   },
   "file_extension": ".py",
   "mimetype": "text/x-python",
   "name": "python",
   "nbconvert_exporter": "python",
   "pygments_lexer": "ipython3",
   "version": "3.9.6"
  }
 },
 "nbformat": 4,
 "nbformat_minor": 2
}
